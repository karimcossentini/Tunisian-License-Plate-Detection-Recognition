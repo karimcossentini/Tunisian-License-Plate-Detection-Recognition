{
 "cells": [
  {
   "cell_type": "code",
   "execution_count": null,
   "metadata": {},
   "outputs": [],
   "source": [
    "def make_model():\n",
    "    \"\"\"\n",
    "    Define your model architecture here.\n",
    "    Returns `Sequential` model.\n",
    "    \"\"\"\n",
    "    model = Sequential()  # start feed-forward model definition\n",
    "    model.add(Conv2D(16,(3,3),padding='same', input_shape=(32, 32, 3)))\n",
    "    model.add(LeakyReLU(0.1))\n",
    "    model.add(Conv2D(32,(3,3),padding='same'))\n",
    "    model.add(LeakyReLU(0.1))\n",
    "    model.add(MaxPooling2D([2,2]))\n",
    "    model.add(Dropout(rate=0.25))\n",
    "    model.add(Conv2D(32,(3,3),padding='same'))\n",
    "    model.add(LeakyReLU(0.1))\n",
    "    model.add(Conv2D(64,(3,3),padding='same'))\n",
    "    model.add(LeakyReLU(0.1))\n",
    "    model.add(MaxPooling2D([2,2]))\n",
    "    model.add(Dropout(rate=0.25))\n",
    "              \n",
    "    model.add(Flatten())\n",
    "    model.add(Dense(256))\n",
    "    model.add(Dropout(rate=0.5))\n",
    "    model.add(Dense(NUM_CLASSES))  # the last layer with neuron for each class\n",
    "    model.add(Activation(\"softmax\"))  # output probabilities\n",
    "    \n",
    "    return model"
   ]
  }
 ],
 "metadata": {
  "kernelspec": {
   "display_name": "tensorenviron",
   "language": "python",
   "name": "tensorenviron"
  },
  "language_info": {
   "codemirror_mode": {
    "name": "ipython",
    "version": 3
   },
   "file_extension": ".py",
   "mimetype": "text/x-python",
   "name": "python",
   "nbconvert_exporter": "python",
   "pygments_lexer": "ipython3",
   "version": "3.7.6"
  }
 },
 "nbformat": 4,
 "nbformat_minor": 2
}
